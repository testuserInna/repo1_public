{
  "cells": [
    {
      "id": "96f8902d-2de4-416e-ac76-541b45cadc4f",
      "cell_type": "code",
      "metadata": {
        "language": "python"
      },
      "source": "create database test1;\n\nuse test1;\n\n\n\n\n\n\n\nCREATE TABLE Persons (\n    PersonID int,\n    LastName varchar(255),\n    FirstName varchar(255),\n    Address varchar(255),\n    City varchar(255)\n);\n\nINSERT INTO Persons (PersonID, LastName, FirstName, Address, City)\nVALUES (1, 'Tom B.', 'Erichsen1', 'Stavanger1', 'Norway1');\nINSERT INTO Persons (PersonID, LastName, FirstName, Address, City)\nVALUES (2, 'Tom B.', 'Erichsen2', 'Stavanger2', 'Norway2');\nINSERT INTO Persons (PersonID, LastName, FirstName, Address, City)\nVALUES (3, 'Tom B.', 'Erichsen3', 'Stavanger3', 'Norway3');",
      "outputs": [],
      "execution_count": null
    },
    {
      "id": "1dee2710-451c-4c44-968e-52150b390566",
      "cell_type": "code",
      "metadata": {
        "language": "python"
      },
      "source": "",
      "outputs": [],
      "execution_count": null
    }
  ],
  "metadata": {
    "kernelspec": {
      "display_name": "Python 3 (ipykernel)",
      "language": "python",
      "name": "python3"
    },
    "language_info": {
      "codemirror_mode": {
        "name": "ipython",
        "version": 3
      },
      "file_extension": ".py",
      "mimeType": "text/x-python",
      "name": "python",
      "nbconvert_exporter": "python",
      "pygments_lexer": "ipython3",
      "version": "3.11.9"
    },
    "jupyterlab": {
      "notebooks": {
        "version_major": 6,
        "version_minor": 4
      }
    },
    "singlestore_connection": {
      "connectionID": "",
      "defaultDatabase": ""
    },
    "singlestore_cell_default_language": "python",
    "singlestore_row_limit": 300
  },
  "nbformat": 4,
  "nbformat_minor": 5
}