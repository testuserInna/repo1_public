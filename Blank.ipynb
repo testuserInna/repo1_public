{
  "cells": [
    {
      "id": "d51072a1-0196-4b9e-9114-4b9cccf603d2",
      "cell_type": "code",
      "metadata": {
        "execution": {
          "iopub.execute_input": "2025-06-20T11:00:39.317958Z",
          "iopub.status.busy": "2025-06-20T11:00:39.317572Z",
          "iopub.status.idle": "2025-06-20T11:00:57.323478Z",
          "shell.execute_reply": "2025-06-20T11:00:57.313653Z",
          "shell.execute_reply.started": "2025-06-20T11:00:39.317925Z"
        },
        "language": "python",
        "tags": [],
        "trusted": true
      },
      "source": "%%sql\nCREATE DATABASE IF NOT EXISTS tpch;",
      "outputs": [],
      "execution_count": 6
    },
    {
      "id": "8061ba0c-5449-4413-a30e-6c6648b73079",
      "cell_type": "code",
      "metadata": {
        "execution": {
          "iopub.execute_input": "2023-06-15T09:55:08.955838Z",
          "iopub.status.busy": "2023-06-15T09:55:08.955408Z",
          "iopub.status.idle": "2023-06-15T09:55:09.060411Z",
          "shell.execute_reply": "2023-06-15T09:55:09.059873Z",
          "shell.execute_reply.started": "2023-06-15T09:55:08.955817Z"
        },
        "language": "python",
        "tags": [],
        "trusted": true
      },
      "source": "%%sql\nuse tpch;",
      "outputs": [],
      "execution_count": 3
    },
    {
      "id": "dc83e1ad-4577-4413-8f2e-a03faf4ffe71",
      "cell_type": "code",
      "metadata": {
        "execution": {
          "iopub.execute_input": "2023-06-15T09:55:27.855191Z",
          "iopub.status.busy": "2023-06-15T09:55:27.854891Z",
          "iopub.status.idle": "2023-06-15T09:55:29.162875Z",
          "shell.execute_reply": "2023-06-15T09:55:29.162304Z",
          "shell.execute_reply.started": "2023-06-15T09:55:27.855171Z"
        },
        "language": "python",
        "tags": [],
        "trusted": true
      },
      "source": "%%sql\nCREATE TABLE `customer` (\n    `c_custkey` int(11) NOT NULL,\n    `c_name` varchar(25) CHARACTER SET utf8 COLLATE utf8_general_ci NOT NULL,\n    `c_address` varchar(40) CHARACTER SET utf8 COLLATE utf8_general_ci NOT NULL,\n    `c_nationkey` int(11) NOT NULL,\n    `c_phone` char(15) CHARACTER SET utf8 COLLATE utf8_general_ci NOT NULL,\n    `c_acctbal` decimal(15,2) NOT NULL,\n    `c_mktsegment` char(10) CHARACTER SET utf8 COLLATE utf8_general_ci NOT NULL,\n    `c_comment` varchar(117) CHARACTER SET utf8 COLLATE utf8_general_ci NOT NULL,\n    SHARD KEY (`c_custkey`) USING CLUSTERED COLUMNSTORE\n);",
      "outputs": [],
      "execution_count": 5
    },
    {
      "id": "7963d9ce-9c3b-4d57-a76d-59c7207ccd94",
      "cell_type": "code",
      "metadata": {
        "execution": {
          "iopub.execute_input": "2023-06-15T09:55:42.268322Z",
          "iopub.status.busy": "2023-06-15T09:55:42.268012Z",
          "iopub.status.idle": "2023-06-15T09:55:42.677765Z",
          "shell.execute_reply": "2023-06-15T09:55:42.677212Z",
          "shell.execute_reply.started": "2023-06-15T09:55:42.268303Z"
        },
        "language": "python",
        "tags": [],
        "trusted": true
      },
      "source": "%%sql\nCREATE TABLE `lineitem` (\n    `l_orderkey` bigint(11) NOT NULL,\n    `l_partkey` int(11) NOT NULL,\n    `l_suppkey` int(11) NOT NULL,\n    `l_linenumber` int(11) NOT NULL,\n    `l_quantity` decimal(15,2) NOT NULL,\n    `l_extendedprice` decimal(15,2) NOT NULL,\n    `l_discount` decimal(15,2) NOT NULL,\n    `l_tax` decimal(15,2) NOT NULL,\n    `l_returnflag` char(1) CHARACTER SET utf8 COLLATE utf8_general_ci NOT NULL,\n    `l_linestatus` char(1) CHARACTER SET utf8 COLLATE utf8_general_ci NOT NULL,\n    `l_shipdate` date NOT NULL,\n    `l_commitdate` date NOT NULL,\n    `l_receiptdate` date NOT NULL,\n    `l_shipinstruct` char(25) CHARACTER SET utf8 COLLATE utf8_general_ci NOT NULL,\n    `l_shipmode` char(10) CHARACTER SET utf8 COLLATE utf8_general_ci NOT NULL,\n    `l_comment` varchar(44) CHARACTER SET utf8 COLLATE utf8_general_ci NOT NULL,\n    SHARD KEY (`l_orderkey`) USING CLUSTERED COLUMNSTORE\n);",
      "outputs": [],
      "execution_count": 6
    },
    {
      "id": "be84b6ab-13f0-4e11-bb14-c505f0e6a738",
      "cell_type": "code",
      "metadata": {
        "execution": {
          "iopub.execute_input": "2023-06-15T09:56:03.035751Z",
          "iopub.status.busy": "2023-06-15T09:56:03.035248Z",
          "iopub.status.idle": "2023-06-15T09:56:03.467843Z",
          "shell.execute_reply": "2023-06-15T09:56:03.467295Z",
          "shell.execute_reply.started": "2023-06-15T09:56:03.035727Z"
        },
        "language": "python",
        "tags": [],
        "trusted": true
      },
      "source": "%%sql\nCREATE TABLE `nation` (\n    `n_nationkey` int(11) NOT NULL,\n    `n_name` char(25) CHARACTER SET utf8 COLLATE utf8_general_ci NOT NULL,\n    `n_regionkey` int(11) NOT NULL,\n    `n_comment` varchar(152) CHARACTER SET utf8 COLLATE utf8_general_ci NOT NULL,\n    SHARD KEY (`n_nationkey`) USING CLUSTERED COLUMNSTORE\n);",
      "outputs": [],
      "execution_count": 8
    },
    {
      "id": "7db0624d-571b-45e1-80dc-d9eb35d3967e",
      "cell_type": "code",
      "metadata": {
        "execution": {
          "iopub.execute_input": "2023-06-15T09:56:18.528270Z",
          "iopub.status.busy": "2023-06-15T09:56:18.528015Z",
          "iopub.status.idle": "2023-06-15T09:56:18.921424Z",
          "shell.execute_reply": "2023-06-15T09:56:18.920804Z",
          "shell.execute_reply.started": "2023-06-15T09:56:18.528249Z"
        },
        "language": "python",
        "tags": [],
        "trusted": true
      },
      "source": "%%sql\nCREATE TABLE `orders` (\n    `o_orderkey` bigint(11) NOT NULL,\n    `o_custkey` int(11) NOT NULL,\n    `o_orderstatus` char(1) CHARACTER SET utf8 COLLATE utf8_general_ci NOT NULL,\n    `o_totalprice` decimal(15,2) NOT NULL,\n    `o_orderdate` date NOT NULL,\n    `o_orderpriority` char(15) CHARACTER SET utf8 COLLATE utf8_general_ci NOT NULL,\n    `o_clerk` char(15) CHARACTER SET utf8 COLLATE utf8_general_ci NOT NULL,\n    `o_shippriority` int(11) NOT NULL,\n    `o_comment` varchar(79) CHARACTER SET utf8 COLLATE utf8_general_ci NOT NULL,\n    SHARD KEY (`o_orderkey`) USING CLUSTERED COLUMNSTORE\n);",
      "outputs": [],
      "execution_count": 9
    },
    {
      "id": "2669ab29-12d3-4bd5-b606-4d1c8f22c147",
      "cell_type": "code",
      "metadata": {
        "execution": {
          "iopub.execute_input": "2023-06-15T09:56:30.345478Z",
          "iopub.status.busy": "2023-06-15T09:56:30.345175Z",
          "iopub.status.idle": "2023-06-15T09:56:30.617386Z",
          "shell.execute_reply": "2023-06-15T09:56:30.616851Z",
          "shell.execute_reply.started": "2023-06-15T09:56:30.345458Z"
        },
        "language": "python",
        "tags": [],
        "trusted": true
      },
      "source": "%%sql \nCREATE TABLE `part` (\n    `p_partkey` int(11) NOT NULL,\n    `p_name` varchar(55) CHARACTER SET utf8 COLLATE utf8_general_ci NOT NULL,\n    `p_mfgr` char(25) CHARACTER SET utf8 COLLATE utf8_general_ci NOT NULL,\n    `p_brand` char(10) CHARACTER SET utf8 COLLATE utf8_general_ci NOT NULL,\n    `p_type` varchar(25) CHARACTER SET utf8 COLLATE utf8_general_ci NOT NULL,\n    `p_size` int(11) NOT NULL,\n    `p_container` char(10) CHARACTER SET utf8 COLLATE utf8_general_ci NOT NULL,\n    `p_retailprice` decimal(15,2) NOT NULL,\n    `p_comment` varchar(23) CHARACTER SET utf8 COLLATE utf8_general_ci NOT NULL,\n    SHARD KEY (`p_partkey`) USING CLUSTERED COLUMNSTORE\n);",
      "outputs": [],
      "execution_count": 11
    },
    {
      "id": "305ab571-68e7-432b-8e3d-34e9e169f15f",
      "cell_type": "code",
      "metadata": {
        "execution": {
          "iopub.execute_input": "2023-06-15T09:56:40.113954Z",
          "iopub.status.busy": "2023-06-15T09:56:40.113529Z",
          "iopub.status.idle": "2023-06-15T09:56:40.351862Z",
          "shell.execute_reply": "2023-06-15T09:56:40.351338Z",
          "shell.execute_reply.started": "2023-06-15T09:56:40.113933Z"
        },
        "language": "python",
        "tags": [],
        "trusted": true
      },
      "source": "%%sql\nCREATE TABLE `partsupp` (\n    `ps_partkey` int(11) NOT NULL,\n    `ps_suppkey` int(11) NOT NULL,\n    `ps_availqty` int(11) NOT NULL,\n    `ps_supplycost` decimal(15,2) NOT NULL,\n    `ps_comment` varchar(199) CHARACTER SET utf8 COLLATE utf8_general_ci NOT NULL,\n    SHARD KEY(`ps_partkey`),\n    KEY (`ps_partkey`,`ps_suppkey`)  USING CLUSTERED COLUMNSTORE\n);",
      "outputs": [],
      "execution_count": 13
    },
    {
      "id": "6bca8cf0-af65-475f-b393-c5233a3bc17f",
      "cell_type": "code",
      "metadata": {
        "execution": {
          "iopub.execute_input": "2023-06-15T09:56:49.372098Z",
          "iopub.status.busy": "2023-06-15T09:56:49.371646Z",
          "iopub.status.idle": "2023-06-15T09:56:49.599392Z",
          "shell.execute_reply": "2023-06-15T09:56:49.598890Z",
          "shell.execute_reply.started": "2023-06-15T09:56:49.372078Z"
        },
        "language": "python",
        "tags": [],
        "trusted": true
      },
      "source": "%%sql\nCREATE TABLE `region` (\n    `r_regionkey` int(11) NOT NULL,\n    `r_name` char(25) CHARACTER SET utf8 COLLATE utf8_general_ci NOT NULL,\n    `r_comment` varchar(152) CHARACTER SET utf8 COLLATE utf8_general_ci NOT NULL,\n    SHARD KEY (`r_regionkey`) USING CLUSTERED COLUMNSTORE\n);",
      "outputs": [],
      "execution_count": 14
    },
    {
      "id": "94101ba7-ca7f-453b-a261-31fecc7f3970",
      "cell_type": "code",
      "metadata": {
        "execution": {
          "iopub.execute_input": "2023-06-15T09:57:02.730486Z",
          "iopub.status.busy": "2023-06-15T09:57:02.730134Z",
          "iopub.status.idle": "2023-06-15T09:57:03.330553Z",
          "shell.execute_reply": "2023-06-15T09:57:03.330017Z",
          "shell.execute_reply.started": "2023-06-15T09:57:02.730464Z"
        },
        "language": "python",
        "tags": [],
        "trusted": true
      },
      "source": "%%sql\nCREATE TABLE `supplier` (\n    `s_suppkey` int(11) NOT NULL,\n    `s_name` char(25) CHARACTER SET utf8 COLLATE utf8_general_ci NOT NULL,\n    `s_address` varchar(40) CHARACTER SET utf8 COLLATE utf8_general_ci NOT NULL,\n    `s_nationkey` int(11) NOT NULL,\n    `s_phone` char(15) CHARACTER SET utf8 COLLATE utf8_general_ci NOT NULL,\n    `s_acctbal` decimal(15,2) NOT NULL,\n    `s_comment` varchar(101) CHARACTER SET utf8 COLLATE utf8_general_ci NOT NULL,\n    SHARD KEY (`s_suppkey`) USING CLUSTERED COLUMNSTORE\n);",
      "outputs": [],
      "execution_count": 15
    },
    {
      "id": "e250a143-e0dd-474d-bfad-a174d438a173",
      "cell_type": "code",
      "metadata": {
        "execution": {
          "iopub.execute_input": "2023-06-15T09:57:13.379804Z",
          "iopub.status.busy": "2023-06-15T09:57:13.379476Z",
          "iopub.status.idle": "2023-06-15T09:57:13.969114Z",
          "shell.execute_reply": "2023-06-15T09:57:13.968589Z",
          "shell.execute_reply.started": "2023-06-15T09:57:13.379783Z"
        },
        "language": "python",
        "tags": [],
        "trusted": true
      },
      "source": "%%sql\nCREATE OR REPLACE PIPELINE tpch_100_lineitem\nAS LOAD DATA S3 'memsql-tpch-dataset/sf_100/lineitem/'\nconfig '{\"region\":\"us-east-1\"}'\nSKIP DUPLICATE KEY ERRORS\nINTO TABLE lineitem\nFIELDS TERMINATED BY '|'\nLINES TERMINATED BY '|\\n';",
      "outputs": [],
      "execution_count": 17
    },
    {
      "id": "5a55e7c5-e1f8-4416-a4d8-f7d6ae494e81",
      "cell_type": "code",
      "metadata": {
        "execution": {
          "iopub.execute_input": "2023-06-15T09:57:26.117454Z",
          "iopub.status.busy": "2023-06-15T09:57:26.116887Z",
          "iopub.status.idle": "2023-06-15T09:57:26.597691Z",
          "shell.execute_reply": "2023-06-15T09:57:26.597180Z",
          "shell.execute_reply.started": "2023-06-15T09:57:26.117426Z"
        },
        "language": "python",
        "tags": [],
        "trusted": true
      },
      "source": "%%sql\nCREATE OR REPLACE PIPELINE tpch_100_customer\nAS LOAD DATA S3 'memsql-tpch-dataset/sf_100/customer/'\nconfig '{\"region\":\"us-east-1\"}'\nSKIP DUPLICATE KEY ERRORS\nINTO TABLE customer\nFIELDS TERMINATED BY '|'\nLINES TERMINATED BY '|\\n';",
      "outputs": [],
      "execution_count": 18
    },
    {
      "id": "ff009249-20d1-4c44-adbc-174de41d0532",
      "cell_type": "code",
      "metadata": {
        "execution": {
          "iopub.execute_input": "2023-06-15T09:57:34.753973Z",
          "iopub.status.busy": "2023-06-15T09:57:34.753543Z",
          "iopub.status.idle": "2023-06-15T09:57:35.478367Z",
          "shell.execute_reply": "2023-06-15T09:57:35.477741Z",
          "shell.execute_reply.started": "2023-06-15T09:57:34.753952Z"
        },
        "language": "python",
        "tags": [],
        "trusted": true
      },
      "source": "%%sql\nCREATE OR REPLACE PIPELINE tpch_100_nation\nAS LOAD DATA S3 'memsql-tpch-dataset/sf_100/nation/'\nconfig '{\"region\":\"us-east-1\"}'\nSKIP DUPLICATE KEY ERRORS\nINTO TABLE nation\nFIELDS TERMINATED BY '|'\nLINES TERMINATED BY '|\\n';",
      "outputs": [],
      "execution_count": 19
    },
    {
      "id": "661764a7-189c-40d7-bb70-bd971401a871",
      "cell_type": "code",
      "metadata": {
        "execution": {
          "iopub.execute_input": "2023-06-15T09:57:43.514295Z",
          "iopub.status.busy": "2023-06-15T09:57:43.513868Z",
          "iopub.status.idle": "2023-06-15T09:57:43.896769Z",
          "shell.execute_reply": "2023-06-15T09:57:43.896207Z",
          "shell.execute_reply.started": "2023-06-15T09:57:43.514274Z"
        },
        "language": "python",
        "tags": [],
        "trusted": true
      },
      "source": "%%sql\nCREATE OR REPLACE PIPELINE tpch_100_orders\nAS LOAD DATA S3 'memsql-tpch-dataset/sf_100/orders/'\nconfig '{\"region\":\"us-east-1\"}'\nSKIP DUPLICATE KEY ERRORS\nINTO TABLE orders\nFIELDS TERMINATED BY '|'\nLINES TERMINATED BY '|\\n';",
      "outputs": [],
      "execution_count": 20
    },
    {
      "id": "7cb523ea-f5e0-4441-8d68-e049dbe6b890",
      "cell_type": "code",
      "metadata": {
        "execution": {
          "iopub.execute_input": "2023-06-15T09:57:53.770985Z",
          "iopub.status.busy": "2023-06-15T09:57:53.770642Z",
          "iopub.status.idle": "2023-06-15T09:57:54.236716Z",
          "shell.execute_reply": "2023-06-15T09:57:54.236183Z",
          "shell.execute_reply.started": "2023-06-15T09:57:53.770959Z"
        },
        "language": "python",
        "tags": [],
        "trusted": true
      },
      "source": "%%sql\nCREATE OR REPLACE PIPELINE tpch_100_part\nAS LOAD DATA S3 'memsql-tpch-dataset/sf_100/part/'\nconfig '{\"region\":\"us-east-1\"}'\nSKIP DUPLICATE KEY ERRORS\nINTO TABLE part\nFIELDS TERMINATED BY '|'\nLINES TERMINATED BY '|\\n';",
      "outputs": [],
      "execution_count": 21
    },
    {
      "id": "8c511d57-9583-4952-9075-bff8d761cdd3",
      "cell_type": "code",
      "metadata": {
        "execution": {
          "iopub.execute_input": "2023-06-15T09:58:01.646686Z",
          "iopub.status.busy": "2023-06-15T09:58:01.644168Z",
          "iopub.status.idle": "2023-06-15T09:58:01.971199Z",
          "shell.execute_reply": "2023-06-15T09:58:01.970617Z",
          "shell.execute_reply.started": "2023-06-15T09:58:01.646659Z"
        },
        "language": "python",
        "tags": [],
        "trusted": true
      },
      "source": "%%sql\nCREATE OR REPLACE PIPELINE tpch_100_partsupp\nAS LOAD DATA S3 'memsql-tpch-dataset/sf_100/partsupp/'\nconfig '{\"region\":\"us-east-1\"}'\nSKIP DUPLICATE KEY ERRORS\nINTO TABLE partsupp\nFIELDS TERMINATED BY '|'\nLINES TERMINATED BY '|\\n';",
      "outputs": [],
      "execution_count": 22
    },
    {
      "id": "5489984f-cc21-4f31-bf76-8fc754393b2a",
      "cell_type": "code",
      "metadata": {
        "execution": {
          "iopub.execute_input": "2023-06-15T09:58:11.758326Z",
          "iopub.status.busy": "2023-06-15T09:58:11.757828Z",
          "iopub.status.idle": "2023-06-15T09:58:12.061736Z",
          "shell.execute_reply": "2023-06-15T09:58:12.061233Z",
          "shell.execute_reply.started": "2023-06-15T09:58:11.758301Z"
        },
        "language": "python",
        "tags": [],
        "trusted": true
      },
      "source": "%%sql\nCREATE OR REPLACE PIPELINE tpch_100_region\nAS LOAD DATA S3 'memsql-tpch-dataset/sf_100/region/'\nconfig '{\"region\":\"us-east-1\"}'\nSKIP DUPLICATE KEY ERRORS\nINTO TABLE region\nFIELDS TERMINATED BY '|'\nLINES TERMINATED BY '|\\n';",
      "outputs": [],
      "execution_count": 24
    },
    {
      "id": "ededd1ee-d116-4a80-90dc-e5c4def07104",
      "cell_type": "code",
      "metadata": {
        "execution": {
          "iopub.execute_input": "2023-06-15T09:58:24.034952Z",
          "iopub.status.busy": "2023-06-15T09:58:24.034526Z",
          "iopub.status.idle": "2023-06-15T09:58:24.928005Z",
          "shell.execute_reply": "2023-06-15T09:58:24.927346Z",
          "shell.execute_reply.started": "2023-06-15T09:58:24.034931Z"
        },
        "language": "python",
        "tags": [],
        "trusted": true
      },
      "source": "%%sql\nCREATE OR REPLACE PIPELINE tpch_100_supplier\nAS LOAD DATA S3 'memsql-tpch-dataset/sf_100/supplier/'\nconfig '{\"region\":\"us-east-1\"}'\nSKIP DUPLICATE KEY ERRORS\nINTO TABLE supplier\nFIELDS TERMINATED BY '|'\nLINES TERMINATED BY '|\\n';",
      "outputs": [],
      "execution_count": 26
    },
    {
      "id": "38a116bd-e38f-4cab-a77b-523f84cb0a39",
      "cell_type": "code",
      "metadata": {
        "language": "python",
        "tags": [],
        "trusted": true
      },
      "source": "%%sql\nSTART ALL PIPELINES;",
      "outputs": [],
      "execution_count": null
    },
    {
      "id": "7a0e5a43-c20b-406b-a374-f9e4e830c972",
      "cell_type": "code",
      "metadata": {
        "execution": {
          "iopub.execute_input": "2023-06-16T09:37:14.341208Z",
          "iopub.status.busy": "2023-06-16T09:37:14.340794Z"
        },
        "language": "python",
        "tags": [],
        "trusted": true
      },
      "source": "%%sql\nuse tpch;\nselect * from tpch.customer;",
      "outputs": [],
      "execution_count": null
    },
    {
      "id": "119c1ec4-d04a-4f5c-9aa4-d7205a564a6b",
      "cell_type": "code",
      "metadata": {
        "language": "python"
      },
      "source": "",
      "outputs": [],
      "execution_count": null
    }
  ],
  "metadata": {
    "kernelspec": {
      "display_name": "Python 3 (ipykernel)",
      "language": "python",
      "name": "python3"
    },
    "language_info": {
      "codemirror_mode": {
        "name": "ipython",
        "version": 3
      },
      "file_extension": ".py",
      "mimeType": "text/x-python",
      "name": "python",
      "nbconvert_exporter": "python",
      "pygments_lexer": "ipython3",
      "version": "3.11.9"
    },
    "jupyterlab": {
      "notebooks": {
        "version_major": 6,
        "version_minor": 4
      }
    },
    "singlestore_connection": {
      "connectionID": "3a94bcd9-c9c1-476c-ac42-7bddc2c84c02",
      "defaultDatabase": "tpch"
    },
    "singlestore_cell_default_language": "python",
    "singlestore_row_limit": 300
  },
  "nbformat": 4,
  "nbformat_minor": 5
}